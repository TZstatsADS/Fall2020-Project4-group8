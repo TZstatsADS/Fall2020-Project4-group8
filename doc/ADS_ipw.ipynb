{
 "cells": [
  {
   "cell_type": "code",
   "execution_count": null,
   "metadata": {
    "collapsed": true
   },
   "outputs": [],
   "source": [
    "import pandas as pd\n",
    "import numpy as np\n",
    "from sklearn.ensemble import GradientBoostingClassifier, GradientBoostingRegressor\n",
    "import math\n",
    "from sklearn.model_selection import GridSearchCV\n",
    "from xgboost import XGBClassifier"
   ]
  },
  {
   "cell_type": "code",
   "execution_count": null,
   "outputs": [],
   "source": [
    "url_low = 'https://raw.githubusercontent.com/TZstatsADS/Fall2020-Project4-group-8/main/data/lowDim_dataset.csv?token=AOSJD5EUXUPUMLHW4NMK5G27X7LJO'\n",
    "url_high = 'https://raw.githubusercontent.com/TZstatsADS/Fall2020-Project4-group-8/main/data/highDim_dataset.csv?token=AOSJD5FE2I6YBQ4XODO6LE27X7LOM'\n",
    "url_pro_low = 'https://raw.githubusercontent.com/TZstatsADS/Fall2020-Project4-group-8/main/output/low_dim_propensity_scores.csv?token=AOSJD5BQYGP4GKLYSWOVOD27X7LSI'\n",
    "url_pro_high = 'https://raw.githubusercontent.com/TZstatsADS/Fall2020-Project4-group-8/main/output/high_dim_propensity_scores.csv?token=AOSJD5EO6552YHOHZQERQ327X7LUG'\n",
    "lowDim_dataset = pd.read_csv(url_low)\n",
    "highDim_dataset = pd.read_csv(url_high)\n",
    "propensity_low = pd.read_csv(url_pro_low)\n",
    "propensity_high = pd.read_csv(url_pro_high)"
   ],
   "metadata": {
    "collapsed": false,
    "pycharm": {
     "name": "#%%\n"
    }
   }
  },
  {
   "cell_type": "code",
   "execution_count": null,
   "outputs": [],
   "source": [
    "def ipw_ate(dataset):\n",
    "    treated = 0\n",
    "    controlled = 0\n",
    "    for i in range(dataset.shape[0]):\n",
    "        if dataset['A'][i] == 1:\n",
    "            treated += dataset['Y'][i] * dataset['weight'][i]\n",
    "        else:\n",
    "            controlled += dataset['Y'][i] * dataset['weight'][i]\n",
    "\n",
    "    print(treated - controlled)\n",
    "    ate = (treated - controlled)/dataset.shape[0]\n",
    "    return ate"
   ],
   "metadata": {
    "collapsed": false,
    "pycharm": {
     "name": "#%%\n"
    }
   }
  },
  {
   "cell_type": "code",
   "execution_count": null,
   "outputs": [],
   "source": [
    "X=lowDim_dataset.iloc[:,2:24].values\n",
    "A=lowDim_dataset['A'].values\n",
    "Y=lowDim_dataset['Y'].values\n",
    "params = {'learning_rate':[0.001,0.01,0.035,0.1], 'max_depth': [1,2,3], 'n_estimators':[50,100,200],\n",
    "          'min_samples_leaf':[1,2],'min_samples_split':[2,4]}\n",
    "gscv = GridSearchCV(GradientBoostingClassifier(),params,cv=5).fit(X, A)\n",
    "print('param: ', gscv.best_params_)\n",
    "print('score: ', gscv.best_score_)"
   ],
   "metadata": {
    "collapsed": false,
    "pycharm": {
     "name": "#%%\n"
    }
   }
  },
  {
   "cell_type": "code",
   "execution_count": null,
   "outputs": [],
   "source": [
    "gbm = GradientBoostingClassifier(learning_rate=0.035, max_depth=2, min_samples_leaf=1, min_samples_split=4,\n",
    "                                 n_estimators=50).fit(X, A)\n",
    "propensity_low_new = [x[1] for x in gbm.predict_proba(X)]"
   ],
   "metadata": {
    "collapsed": false,
    "pycharm": {
     "name": "#%%\n"
    }
   }
  },
  {
   "cell_type": "code",
   "execution_count": null,
   "outputs": [],
   "source": [
    "lowDim_dataset['score'] = propensity_low_new\n",
    "lowDim_dataset['weight'] = lowDim_dataset['A']/lowDim_dataset['score'] + (1 - lowDim_dataset['A'])/(1 - lowDim_dataset['score'])"
   ],
   "metadata": {
    "collapsed": false,
    "pycharm": {
     "name": "#%%\n"
    }
   }
  },
  {
   "cell_type": "code",
   "execution_count": null,
   "outputs": [],
   "source": [
    "ate_low = ipw_ate(lowDim_dataset)\n",
    "ate_low"
   ],
   "metadata": {
    "collapsed": false,
    "pycharm": {
     "name": "#%%\n"
    }
   }
  },
  {
   "cell_type": "code",
   "execution_count": null,
   "outputs": [],
   "source": [
    "lowDim_dataset['score'] = propensity_low['propensity_scores']\n",
    "lowDim_dataset['weight'] = lowDim_dataset['A']/lowDim_dataset['score'] + (1 - lowDim_dataset['A'])/(1 - lowDim_dataset['score'])"
   ],
   "metadata": {
    "collapsed": false,
    "pycharm": {
     "name": "#%%\n"
    }
   }
  }
 ],
 "metadata": {
  "kernelspec": {
   "display_name": "Python 3",
   "language": "python",
   "name": "python3"
  },
  "language_info": {
   "codemirror_mode": {
    "name": "ipython",
    "version": 2
   },
   "file_extension": ".py",
   "mimetype": "text/x-python",
   "name": "python",
   "nbconvert_exporter": "python",
   "pygments_lexer": "ipython2",
   "version": "2.7.6"
  }
 },
 "nbformat": 4,
 "nbformat_minor": 0
}