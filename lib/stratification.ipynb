{
 "cells": [
  {
   "cell_type": "markdown",
   "metadata": {},
   "source": [
    "#### Stratification "
   ]
  },
  {
   "cell_type": "markdown",
   "metadata": {},
   "source": [
    "Input: list of Propensity scores \n",
    "Output: ATE \n",
    "\n",
    "Governing Equation:\n",
    "\n",
    "$$\\hat{\\Delta}_s = \\sum_{n=1}^{K} \\frac{N_j}{N}\\ \\{ N_1j^-1\\sum_{i=1}^{N} T_i Y_i I(\\hat{e}\\in \\hat{Q_j}) - N_0j^-1\\sum_{i=1}^{N} T_i Y_i I(\\hat{e}\\in \\hat{Q_j}) \t\\} $$"
   ]
  },
  {
   "cell_type": "code",
   "execution_count": 150,
   "metadata": {},
   "outputs": [],
   "source": [
    "# packages as needed \n",
    "import numpy as np\n",
    "import math\n",
    "import pandas as pd"
   ]
  },
  {
   "cell_type": "code",
   "execution_count": 151,
   "metadata": {},
   "outputs": [],
   "source": [
    "lowDim_dataset = pd.read_csv('../data/lowDim_dataset.csv')\n",
    "highDim_dataset = pd.read_csv('../data/highDim_dataset.csv')\n",
    "Y=lowDim_dataset['Y'] #response\n",
    "D=lowDim_dataset['A'] #treatment/control column"
   ]
  },
  {
   "cell_type": "code",
   "execution_count": 152,
   "metadata": {},
   "outputs": [],
   "source": [
    "# get real Propesnity scores here\n",
    "# scores = PropensityScoreFunction( something )"
   ]
  },
  {
   "cell_type": "code",
   "execution_count": 153,
   "metadata": {},
   "outputs": [],
   "source": [
    "# Function for Creating Strata from Propensity Scores\n",
    "\n",
    "def stratify(scores):\n",
    "    \n",
    "    # Make data frame holding Y, A, Propesnity score, \n",
    "    df = pd.DataFrame({\n",
    "        'Y': Y,\n",
    "        'D': D,\n",
    "        'Scores': scores\n",
    "    })\n",
    "    K = 5\n",
    "    N = len(df)          # Number of individuals\n",
    "\n",
    "    # Create stratum and stratum limits\n",
    "    Q1 = np.quantile(scores, .20)\n",
    "    Q2 = np.quantile(scores, .40)\n",
    "    Q3 = np.quantile(scores, .60)\n",
    "    Q4 = np.quantile(scores, .80)\n",
    "    Q5 = np.quantile(scores, 1.0)\n",
    "    quin1 = df[df['Scores']<= Q1]\n",
    "    quin2 = df[(df['Scores']> Q1) & (df['Scores']<= Q2)]\n",
    "    quin3 = df[(df['Scores']> Q2) & (df['Scores']<= Q3)]\n",
    "    quin4 = df[(df['Scores']> Q3) & (df['Scores']<= Q4)]\n",
    "    quin5 = df[df['Scores']> Q4]\n",
    "\n",
    "    quintiles = [quin1, quin2, quin3, quin4, quin5]\n",
    "    Q_ranges = [None, Q1, Q2, Q3, Q4, Q5]\n",
    "    \"\"\"print(\"\\nquin1: \\n\", Q1)\n",
    "    print(\"\\nquin2: \\n \", quin2)\n",
    "    print(\"\\nquin3: \\n\", quin3)\n",
    "    print(\"\\nquin4: \\n\", quin4)\n",
    "    print(\"\\nquin5: \\n\", quin5)\"\"\"\n",
    "    return [quintiles, Q_ranges]\n",
    "    "
   ]
  },
  {
   "cell_type": "code",
   "execution_count": 154,
   "metadata": {},
   "outputs": [],
   "source": [
    "# Function for Calculating ATE from strata\n",
    "\n",
    "def strat_ATE(quintiles, Q_ranges):\n",
    "    results = []\n",
    "    for i, stratum in enumerate(quintiles): \n",
    "        i+=1\n",
    "        sum1 = 0\n",
    "        sum2 = 0\n",
    "\n",
    "        # Calc e for each sample within each strata (Should all be 1)\n",
    "        e_list = [1 if (score<=Q_ranges[i]) and (score > 0 if Q_ranges[i-1]== None else score > Q_ranges[i-1]) else 0 for score in stratum['Scores']]\n",
    "        # Summation of treated samples within strata\n",
    "        sum1 = sum([T*Y*e for T,Y,e in zip(stratum['Y'],stratum['D'], e_list)])\n",
    "        # Summation of untreated samples within strata\n",
    "        sum2 = sum([(1-T)*Y*e for T,Y,e in zip(stratum['Y'],stratum['D'], e_list)]) \n",
    "\n",
    "        \"\"\"\n",
    "        For Troubleshooting:     Erase if needed\n",
    "        print(\"\\n\\nStratum: \", i)\n",
    "        print(sum1)\n",
    "        print(sum2)\n",
    "        print(\"With  N * terms \")\n",
    "        print(sum1/stratum.D.value_counts()[1])\n",
    "        print(sum2/stratum.D.value_counts()[0])\n",
    "        print(\"Difference \")\n",
    "        print((sum1/stratum.D.value_counts()[1])-(sum2/stratum.D.value_counts()[0]))\n",
    "        print(\"Nj / N * Final Sum \")\n",
    "        print(len(stratum)/len(df) * ((sum1/stratum.D.value_counts()[1])-(sum2/stratum.D.value_counts()[0])))\n",
    "        \"\"\"\n",
    "        results.append(len(stratum)/N * ((sum1/stratum.D.value_counts()[1])-(sum2/stratum.D.value_counts()[0])))\n",
    "\n",
    "    return sum(results)"
   ]
  },
  {
   "cell_type": "markdown",
   "metadata": {},
   "source": [
    "Below is \"test run\" with randomly generated scores. Remove for submission"
   ]
  },
  {
   "cell_type": "code",
   "execution_count": 155,
   "metadata": {},
   "outputs": [],
   "source": [
    "import random        # only need for troubleshooting code. "
   ]
  },
  {
   "cell_type": "code",
   "execution_count": 156,
   "metadata": {},
   "outputs": [
    {
     "name": "stdout",
     "output_type": "stream",
     "text": [
      "Estimated ATE:  27.785849967476842\n"
     ]
    }
   ],
   "source": [
    "# Make dummy list of PS\n",
    "scores = []  # Dummy list for now\n",
    "for i in range(475):  \n",
    "    scores.append(round(random.uniform(4.02,43.05), 4))\n",
    "\n",
    "quintiles, Q_ranges = stratify(scores)\n",
    "\n",
    "print(\"Estimated ATE: \", strat_ATE(quintiles, Q_ranges))"
   ]
  }
 ],
 "metadata": {
  "kernelspec": {
   "display_name": "Python 3",
   "language": "python",
   "name": "python3"
  },
  "language_info": {
   "codemirror_mode": {
    "name": "ipython",
    "version": 3
   },
   "file_extension": ".py",
   "mimetype": "text/x-python",
   "name": "python",
   "nbconvert_exporter": "python",
   "pygments_lexer": "ipython3",
   "version": "3.8.3"
  }
 },
 "nbformat": 4,
 "nbformat_minor": 4
}
